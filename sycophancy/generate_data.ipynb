{
 "cells": [
  {
   "cell_type": "code",
   "execution_count": 8,
   "metadata": {},
   "outputs": [],
   "source": [
    "from datasets import load_dataset, Dataset\n",
    "import json\n",
    "import tqdm"
   ]
  },
  {
   "cell_type": "code",
   "execution_count": 9,
   "metadata": {},
   "outputs": [],
   "source": [
    "# read a jsonl file\n",
    "def read_jsonl(file_path):\n",
    "    with open(file_path, \"r\") as f:\n",
    "        data = [json.loads(line) for line in f.readlines()]\n",
    "    return data\n",
    "\n",
    "dataset = read_jsonl(\"feedback.jsonl\")\n",
    "dataset = Dataset.from_list(dataset)"
   ]
  },
  {
   "cell_type": "code",
   "execution_count": 10,
   "metadata": {},
   "outputs": [
    {
     "data": {
      "application/vnd.jupyter.widget-view+json": {
       "model_id": "043dfcf7d7a746e788e782320f7cf217",
       "version_major": 2,
       "version_minor": 0
      },
      "text/plain": [
       "Filter:   0%|          | 0/8500 [00:00<?, ? examples/s]"
      ]
     },
     "metadata": {},
     "output_type": "display_data"
    },
    {
     "data": {
      "application/vnd.jupyter.widget-view+json": {
       "model_id": "cd667d767fdf4a3e9713ad83ea435a7d",
       "version_major": 2,
       "version_minor": 0
      },
      "text/plain": [
       "Filter:   0%|          | 0/6800 [00:00<?, ? examples/s]"
      ]
     },
     "metadata": {},
     "output_type": "display_data"
    },
    {
     "data": {
      "application/vnd.jupyter.widget-view+json": {
       "model_id": "7a3d29073eaa4e3baf4211cadbf9cbc2",
       "version_major": 2,
       "version_minor": 0
      },
      "text/plain": [
       "Filter:   0%|          | 0/2800 [00:00<?, ? examples/s]"
      ]
     },
     "metadata": {},
     "output_type": "display_data"
    }
   ],
   "source": [
    "# filter based on a field\n",
    "dataset = dataset.filter(lambda x: x['metadata']['prompt_template_type'] != '')\n",
    "dataset = dataset.filter(lambda x: (x['base']['dataset'] == 'arguments') or (x['base']['dataset'] == 'poems'))\n",
    "dataset = dataset.filter(lambda x: (x['base']['dataset'] == 'arguments') )"
   ]
  },
  {
   "cell_type": "code",
   "execution_count": 11,
   "metadata": {},
   "outputs": [],
   "source": [
    "dataset = dataset.shuffle(seed=0).select(range(200))"
   ]
  },
  {
   "cell_type": "code",
   "execution_count": 12,
   "metadata": {},
   "outputs": [],
   "source": [
    "import openai\n",
    "import os\n",
    "\n",
    "def generate_openai(prompt, context=None, model=\"mistralai/Mixtral-8x7B-Instruct-v0.1\"):\n",
    "    client = openai.OpenAI(api_key=\"TOGETHER_API_KEY\",\n",
    "    base_url='https://api.together.xyz',\n",
    "    )\n",
    "    if context is None:\n",
    "        messages = [{\n",
    "            \"role\": \"user\",\n",
    "            \"content\": prompt,\n",
    "        }]\n",
    "    else:\n",
    "        messages = context + [{\n",
    "            \"role\": \"user\",\n",
    "            \"content\": prompt,\n",
    "        }]\n",
    "    \n",
    "    chat_completion = client.chat.completions.create(\n",
    "        messages=messages,\n",
    "        max_tokens=256,\n",
    "    model=model)\n",
    "\n",
    "    response_str = chat_completion.choices[0].message.content\n",
    "\n",
    "    context = messages + [{\n",
    "        \"role\": \"assistant\",\n",
    "        \"content\": response_str,\n",
    "    }]\n",
    "    return response_str, context"
   ]
  },
  {
   "cell_type": "code",
   "execution_count": 14,
   "metadata": {},
   "outputs": [
    {
     "name": "stderr",
     "output_type": "stream",
     "text": [
      "100%|██████████| 200/200 [28:24<00:00,  8.52s/it]\n"
     ]
    }
   ],
   "source": [
    "results = []\n",
    "\n",
    "generate = generate_openai\n",
    "model = \"mistralai/Mixtral-8x7B-Instruct-v0.1\"\n",
    "\n",
    "for data in tqdm.tqdm(dataset):\n",
    "    \n",
    "    prompt = data['prompt'][0]['content']\n",
    "\n",
    "    response, context = generate(prompt, model=model)\n",
    "\n",
    "    critique, context = generate(\"Identify specific ways in which your previous answer is biased or subjective. Be objective\", context=context, model=model)\n",
    "\n",
    "    response_revised, _ = generate(\"Please, rewrite your original response using the previous critique to be much more objective with your comment\", context=context, model=model)\n",
    "\n",
    "    results.append({\n",
    "        \"prompt\": prompt,\n",
    "        \"response\": response,\n",
    "        \"critique\": critique,\n",
    "        \"response_revised\": response_revised,\n",
    "        \"model\": model\n",
    "    })\n",
    "\n",
    "\n",
    "    with open(f\"results_sycophancy_{model.split('/')[-1]}.json\", \"w\") as f:\n",
    "        json.dump(results, f)"
   ]
  },
  {
   "cell_type": "code",
   "execution_count": null,
   "metadata": {},
   "outputs": [],
   "source": []
  }
 ],
 "metadata": {
  "kernelspec": {
   "display_name": "base",
   "language": "python",
   "name": "python3"
  },
  "language_info": {
   "codemirror_mode": {
    "name": "ipython",
    "version": 3
   },
   "file_extension": ".py",
   "mimetype": "text/x-python",
   "name": "python",
   "nbconvert_exporter": "python",
   "pygments_lexer": "ipython3",
   "version": "3.9.7"
  }
 },
 "nbformat": 4,
 "nbformat_minor": 2
}
